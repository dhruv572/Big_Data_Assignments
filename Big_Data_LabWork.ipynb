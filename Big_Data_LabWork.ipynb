{
  "nbformat": 4,
  "nbformat_minor": 0,
  "metadata": {
    "colab": {
      "provenance": [],
      "toc_visible": true,
      "authorship_tag": "ABX9TyM4wpoevXBn5vBmwtOok1oC",
      "include_colab_link": true
    },
    "kernelspec": {
      "name": "python3",
      "display_name": "Python 3"
    },
    "language_info": {
      "name": "python"
    }
  },
  "cells": [
    {
      "cell_type": "markdown",
      "metadata": {
        "id": "view-in-github",
        "colab_type": "text"
      },
      "source": [
        "<a href=\"https://colab.research.google.com/github/dhruv572/Big_Data_Assignments/blob/main/Big_Data_LabWork.ipynb\" target=\"_parent\"><img src=\"https://colab.research.google.com/assets/colab-badge.svg\" alt=\"Open In Colab\"/></a>"
      ]
    },
    {
      "cell_type": "code",
      "source": [
        "# Question No.1\n",
        "import numpy as np\n",
        "arr = np.array([1,2,3,6,4,5])\n",
        "reverse_arr = arr[::-1]\n",
        "print(reverse_arr)"
      ],
      "metadata": {
        "colab": {
          "base_uri": "https://localhost:8080/"
        },
        "id": "32E4YEBOVtR-",
        "outputId": "50dfd525-9283-4a49-c705-b01d867fe5bc"
      },
      "execution_count": 1,
      "outputs": [
        {
          "output_type": "stream",
          "name": "stdout",
          "text": [
            "[5 4 6 3 2 1]\n"
          ]
        }
      ]
    },
    {
      "cell_type": "code",
      "source": [
        "# Question No.2\n",
        "arr_1=np.array([[1,2],[3,4]])\n",
        "arr_2=np.array([[1,2],[3,4]])\n",
        "\n",
        "is_equal = np.array_equal(arr_1,arr_2)\n",
        "\n",
        "if is_equal:\n",
        "  print('Arrays are equal')\n",
        "else:\n",
        "  print('Arrays are not equal')"
      ],
      "metadata": {
        "colab": {
          "base_uri": "https://localhost:8080/"
        },
        "id": "faZZdU0oSHV2",
        "outputId": "20cc558d-1150-437b-b18d-fdf2fa529f78"
      },
      "execution_count": 6,
      "outputs": [
        {
          "output_type": "stream",
          "name": "stdout",
          "text": [
            "Arrays are equal\n"
          ]
        }
      ]
    },
    {
      "cell_type": "code",
      "source": [],
      "metadata": {
        "id": "_luF403rTHyN"
      },
      "execution_count": null,
      "outputs": []
    },
    {
      "cell_type": "code",
      "source": [],
      "metadata": {
        "id": "GVPjRUrGS-xk"
      },
      "execution_count": null,
      "outputs": []
    }
  ]
}