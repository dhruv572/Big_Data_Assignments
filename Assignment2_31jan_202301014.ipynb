{
  "nbformat": 4,
  "nbformat_minor": 0,
  "metadata": {
    "colab": {
      "provenance": [],
      "toc_visible": true,
      "authorship_tag": "ABX9TyN6tC2GxTYsCehjYgVjxTNm",
      "include_colab_link": true
    },
    "kernelspec": {
      "name": "python3",
      "display_name": "Python 3"
    },
    "language_info": {
      "name": "python"
    }
  },
  "cells": [
    {
      "cell_type": "markdown",
      "metadata": {
        "id": "view-in-github",
        "colab_type": "text"
      },
      "source": [
        "<a href=\"https://colab.research.google.com/github/dhruv572/Big_Data_Assignments/blob/main/Assignment2_31jan_202301014.ipynb\" target=\"_parent\"><img src=\"https://colab.research.google.com/assets/colab-badge.svg\" alt=\"Open In Colab\"/></a>"
      ]
    },
    {
      "cell_type": "code",
      "source": [
        "# Question No.1\n",
        "import numpy as np\n",
        "arr = np.array([1,2,3,6,4,5])\n",
        "reverse_arr = arr[::-1]\n",
        "print(reverse_arr)"
      ],
      "metadata": {
        "colab": {
          "base_uri": "https://localhost:8080/"
        },
        "id": "32E4YEBOVtR-",
        "outputId": "50dfd525-9283-4a49-c705-b01d867fe5bc"
      },
      "execution_count": null,
      "outputs": [
        {
          "output_type": "stream",
          "name": "stdout",
          "text": [
            "[5 4 6 3 2 1]\n"
          ]
        }
      ]
    },
    {
      "cell_type": "code",
      "source": [
        "# Question No.2\n",
        "arr_1=np.array([[1,2],[3,4]])\n",
        "arr_2=np.array([[1,2],[3,4]])\n",
        "\n",
        "is_equal = np.array_equal(arr_1,arr_2)\n",
        "\n",
        "if is_equal:\n",
        "  print('Arrays are equal')\n",
        "else:\n",
        "  print('Arrays are not equal')"
      ],
      "metadata": {
        "colab": {
          "base_uri": "https://localhost:8080/"
        },
        "id": "faZZdU0oSHV2",
        "outputId": "20cc558d-1150-437b-b18d-fdf2fa529f78"
      },
      "execution_count": null,
      "outputs": [
        {
          "output_type": "stream",
          "name": "stdout",
          "text": [
            "Arrays are equal\n"
          ]
        }
      ]
    },
    {
      "cell_type": "code",
      "source": [
        "# Question No.3\n",
        "x = np.array([1,2,3,4,5,1,2,1,1,1])\n",
        "y = np.array([1, 1, 1, 2, 3, 4, 2, 4, 3, 3, ])\n",
        "\n",
        "unique_values_x, counts_x = np.unique(x, return_counts=True)\n",
        "most_frequent_index_x = np.argmax(counts_x)\n",
        "\n",
        "unique_values_y, counts_y = np.unique(y, return_counts=True)\n",
        "most_frequent_index_y = np.argmax(counts_y)\n",
        "\n",
        "\n",
        "most_frequent_value_x = unique_values_x[most_frequent_index_x]\n",
        "indices_x = np.where(x == most_frequent_value_x)[0]\n",
        "\n",
        "most_frequent_value_y = unique_values_y[most_frequent_index_y]\n",
        "indices_y = np.where(y == most_frequent_value_y)[0]\n",
        "\n",
        "print(\"For array x:\")\n",
        "print(\"Most frequent value:\", most_frequent_value_x)\n",
        "print(\"Indices of the most frequent value(s):\", indices_x)\n",
        "print(\"For array y:\")\n",
        "print(\"Most frequent value:\", most_frequent_value_y)\n",
        "print(\"Indices of the most frequent value(s):\", indices_y)"
      ],
      "metadata": {
        "colab": {
          "base_uri": "https://localhost:8080/"
        },
        "id": "_luF403rTHyN",
        "outputId": "6e1c2c40-0538-45d4-c82c-5474e97ae6f7"
      },
      "execution_count": null,
      "outputs": [
        {
          "output_type": "stream",
          "name": "stdout",
          "text": [
            "For array x:\n",
            "Most frequent value: 1\n",
            "Indices of the most frequent value(s): [0 5 7 8 9]\n",
            "For array y:\n",
            "Most frequent value: 1\n",
            "Indices of the most frequent value(s): [0 1 2]\n"
          ]
        }
      ]
    },
    {
      "cell_type": "code",
      "source": [],
      "metadata": {
        "id": "GVPjRUrGS-xk"
      },
      "execution_count": null,
      "outputs": []
    }
  ]
}