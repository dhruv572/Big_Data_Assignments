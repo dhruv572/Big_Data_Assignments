{
  "nbformat": 4,
  "nbformat_minor": 0,
  "metadata": {
    "colab": {
      "provenance": [],
      "authorship_tag": "ABX9TyNpyXCw9Jr9RJ70hEZ/nPyS",
      "include_colab_link": true
    },
    "kernelspec": {
      "name": "python3",
      "display_name": "Python 3"
    },
    "language_info": {
      "name": "python"
    }
  },
  "cells": [
    {
      "cell_type": "markdown",
      "metadata": {
        "id": "view-in-github",
        "colab_type": "text"
      },
      "source": [
        "<a href=\"https://colab.research.google.com/github/dhruv572/Big_Data_Assignments/blob/main/Assignment8_16Apr_202301014_.ipynb\" target=\"_parent\"><img src=\"https://colab.research.google.com/assets/colab-badge.svg\" alt=\"Open In Colab\"/></a>"
      ]
    },
    {
      "cell_type": "code",
      "execution_count": 1,
      "metadata": {
        "colab": {
          "base_uri": "https://localhost:8080/"
        },
        "id": "4eRdOhlqkQjN",
        "outputId": "b572e8d0-fd31-447a-ebed-81e7cd146e12"
      },
      "outputs": [
        {
          "output_type": "stream",
          "name": "stdout",
          "text": [
            "Enter the value of x1:61\n",
            "Enter the value of x2:15\n",
            "Value of y: 160.31000000000003\n"
          ]
        }
      ],
      "source": [
        "import numpy as np\n",
        "x1=np.array([60,62,67,70,71,72,75,78])\n",
        "x2=np.array([22,25,24,20,15,14,14,11])\n",
        "y=np.array([140,155,159,179,192,200,212,215])\n",
        "sum_x1=sum(x1)\n",
        "sum_x2=sum(x2)\n",
        "sum_y=sum(y)\n",
        "mean_x1=sum_x1/len(x1)\n",
        "mean_x2=sum_x2/len(x2)\n",
        "mean_y=sum_y/len(y)\n",
        "x1y=0\n",
        "x2y=0\n",
        "x1_2=0\n",
        "x2_2=0\n",
        "x1x2=0\n",
        "for i in range(len(x1)):\n",
        "  x1y+=x1[i]*y[i]\n",
        "  x2y+=x2[i]*y[i]\n",
        "  x1_2+=x1[i]*x1[i]\n",
        "  x2_2+=x2[i]*x2[i]\n",
        "  x1x2+=x1[i]*x2[i]\n",
        "x1_2=x1_2-(sum_x1*sum_x1)/len(x1)\n",
        "x2_2=x2_2-(sum_x2*sum_x2)/len(x2)\n",
        "x1y=x1y-(sum_x1*sum_y)/len(y)\n",
        "x2y=x2y-(sum_x2*sum_y)/len(y)\n",
        "x1x2=x1x2-(sum_x1*sum_x2)/len(x1)\n",
        "b1=round((x2_2*x1y-x1x2*x2y)/(x1_2*x2_2-x1x2*x1x2),3)\n",
        "b2=round((x1_2*x2y-x1x2*x1y)/(x1_2*x2_2-x1x2*x1x2),3)\n",
        "b0=round(mean_y-b1*mean_x1-b2*mean_x2,3)\n",
        "newX1=float(input('Enter the value of x1:'))\n",
        "newX2=float(input('Enter the value of x2:'))\n",
        "newY=b0+b1*newX1+b2*newX2\n",
        "print('Value of y:',newY)\n"
      ]
    },
    {
      "cell_type": "code",
      "source": [],
      "metadata": {
        "id": "GtTYJSzFGsw2"
      },
      "execution_count": null,
      "outputs": []
    }
  ]
}