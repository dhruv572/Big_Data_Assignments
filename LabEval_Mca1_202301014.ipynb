{
  "nbformat": 4,
  "nbformat_minor": 0,
  "metadata": {
    "colab": {
      "provenance": [],
      "authorship_tag": "ABX9TyPPyRa1mfYYZjcfKocExZox",
      "include_colab_link": true
    },
    "kernelspec": {
      "name": "python3",
      "display_name": "Python 3"
    },
    "language_info": {
      "name": "python"
    }
  },
  "cells": [
    {
      "cell_type": "markdown",
      "metadata": {
        "id": "view-in-github",
        "colab_type": "text"
      },
      "source": [
        "<a href=\"https://colab.research.google.com/github/dhruv572/Big_Data_Assignments/blob/main/LabEval_Mca1_202301014.ipynb\" target=\"_parent\"><img src=\"https://colab.research.google.com/assets/colab-badge.svg\" alt=\"Open In Colab\"/></a>"
      ]
    },
    {
      "cell_type": "code",
      "execution_count": 11,
      "metadata": {
        "colab": {
          "base_uri": "https://localhost:8080/"
        },
        "id": "HYVVFyS7vdpS",
        "outputId": "b193073e-aeea-4dbb-9cfa-46059b785630"
      },
      "outputs": [
        {
          "output_type": "stream",
          "name": "stdout",
          "text": [
            "Product of two matrices is :  [[16 19]\n",
            " [26 31]]\n",
            "Covariance of two matrices is :  [[0.5 0.5 0.5 0.5]\n",
            " [0.5 0.5 0.5 0.5]\n",
            " [0.5 0.5 0.5 0.5]\n",
            " [0.5 0.5 0.5 0.5]]\n"
          ]
        }
      ],
      "source": [
        "# Multiply the following matrices and also find covariance between matrcies using numpy\n",
        "\n",
        "import numpy as np\n",
        "\n",
        "p = [[1,2],[2,3]]\n",
        "q = [[4,5],[6,7]]\n",
        "\n",
        "prod = np.matmul(p,q)\n",
        "cov = np.cov(p,q)\n",
        "\n",
        "print(\"Product of two matrices is : \",prod)\n",
        "print(\"Covariance of two matrices is : \",cov)"
      ]
    }
  ]
}