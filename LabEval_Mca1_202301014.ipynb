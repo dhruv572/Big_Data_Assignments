{
  "nbformat": 4,
  "nbformat_minor": 0,
  "metadata": {
    "colab": {
      "provenance": [],
      "authorship_tag": "ABX9TyP1RiAgGJ9sp6AETsauzAkQ",
      "include_colab_link": true
    },
    "kernelspec": {
      "name": "python3",
      "display_name": "Python 3"
    },
    "language_info": {
      "name": "python"
    }
  },
  "cells": [
    {
      "cell_type": "markdown",
      "metadata": {
        "id": "view-in-github",
        "colab_type": "text"
      },
      "source": [
        "<a href=\"https://colab.research.google.com/github/dhruv572/Big_Data_Assignments/blob/main/LabEval_Mca1_202301014.ipynb\" target=\"_parent\"><img src=\"https://colab.research.google.com/assets/colab-badge.svg\" alt=\"Open In Colab\"/></a>"
      ]
    },
    {
      "cell_type": "code",
      "execution_count": 10,
      "metadata": {
        "colab": {
          "base_uri": "https://localhost:8080/"
        },
        "id": "HYVVFyS7vdpS",
        "outputId": "51b95fcf-ef9a-4a0e-881f-03c8ceb5805b"
      },
      "outputs": [
        {
          "output_type": "stream",
          "name": "stdout",
          "text": [
            "Product of two matrices is :  [[16 19]\n",
            " [26 31]]\n",
            "Covariance of two matrices is :  [[ 4.5  7.5]\n",
            " [ 7.5 12.5]]\n"
          ]
        }
      ],
      "source": [
        "# Multiply the following matrices and also find covariance between matrcies using numpy\n",
        "\n",
        "import numpy as np\n",
        "\n",
        "p = [[1,2],[2,3]]\n",
        "q = [[4,5],[6,7]]\n",
        "\n",
        "prod = np.matmul(p,q)\n",
        "cov = np.cov(prod)\n",
        "\n",
        "print(\"Product of two matrices is : \",prod)\n",
        "print(\"Covariance of two matrices is : \",cov)"
      ]
    }
  ]
}